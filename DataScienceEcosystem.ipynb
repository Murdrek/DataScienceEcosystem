{
 "cells": [
  {
   "cell_type": "markdown",
   "id": "7df5ee84-ec72-439d-b564-ed03a09a56be",
   "metadata": {},
   "source": [
    "# Data Science Tools and Ecosystem\r\n"
   ]
  },
  {
   "cell_type": "markdown",
   "id": "a98b00b5-9b70-4e7a-bcd3-5756e95b632f",
   "metadata": {},
   "source": [
    "In this notebook, Data Science Tools and Ecosystem are summarized.\n"
   ]
  },
  {
   "cell_type": "markdown",
   "id": "5486355f-f4e9-4e56-ae5e-d134486818a0",
   "metadata": {},
   "source": [
    "Some of the popular languages that Data Scientists use are:\r\n",
    "\r\n",
    "1. Python  \r\n",
    "2. R  \r\n",
    "3. SQL  \r\n",
    "4. Java  \r\n",
    "5. Julia\r\n"
   ]
  },
  {
   "cell_type": "markdown",
   "id": "df372d99-a54c-4343-a7dd-d6b92be9809b",
   "metadata": {},
   "source": [
    "Some of the commonly used libraries used by Data Scientists include:\n",
    "\n",
    "1. pandas  \n",
    "2. NumPy  \n",
    "3. ggplot2  \n",
    "4. plotly  \n",
    "5. scikit-learn\n"
   ]
  },
  {
   "cell_type": "markdown",
   "id": "ef598f58-a230-4d2b-975b-c274ffadaadc",
   "metadata": {},
   "source": [
    "| Data Science Tools       |\r\n",
    "|--------------------------|\r\n",
    "| Jupyter Notebook         |\r\n",
    "| RStudio                  |\r\n",
    "| Visual Studio Code       |\r\n"
   ]
  },
  {
   "cell_type": "markdown",
   "id": "358bc5ae-c67f-44da-8365-d2de35a16343",
   "metadata": {},
   "source": [
    "### Below are a few examples of evaluating arithmetic expressions in Python.\n"
   ]
  },
  {
   "cell_type": "code",
   "execution_count": 1,
   "id": "01f8462f-1543-43bb-9730-73fcb4b3c701",
   "metadata": {},
   "outputs": [
    {
     "data": {
      "text/plain": [
       "17"
      ]
     },
     "execution_count": 1,
     "metadata": {},
     "output_type": "execute_result"
    }
   ],
   "source": [
    "# This is a simple arithmetic expression to multiply then add integers\n",
    "(3 * 4) + 5\n"
   ]
  },
  {
   "cell_type": "code",
   "execution_count": 2,
   "id": "598c46de-7455-4fa2-ab5c-07477037bad6",
   "metadata": {},
   "outputs": [
    {
     "data": {
      "text/plain": [
       "3.3333333333333335"
      ]
     },
     "execution_count": 2,
     "metadata": {},
     "output_type": "execute_result"
    }
   ],
   "source": [
    "# This will convert 200 minutes to hours by dividing by 60\n",
    "200 / 60\n"
   ]
  },
  {
   "cell_type": "markdown",
   "id": "9fcfc9bc-d4dc-4802-91a6-71dd1df5faf5",
   "metadata": {},
   "source": [
    "**Objectives:**\n",
    "\n",
    "- List popular languages for Data Science  \n",
    "- Identify commonly used Data Science libraries  \n",
    "- Demonstrate arithmetic operations in Python  \n",
    "- Introduce Markdown formatting in Jupyter  \n",
    "- Share notebooks using GitHub\n"
   ]
  },
  {
   "cell_type": "markdown",
   "id": "f676954b-99ce-4f97-884d-dc8c6c4df14b",
   "metadata": {},
   "source": [
    "## Author\n",
    "Marcelo\n"
   ]
  },
  {
   "cell_type": "code",
   "execution_count": null,
   "id": "30888594-7217-447f-8896-4106c97afd94",
   "metadata": {},
   "outputs": [],
   "source": []
  }
 ],
 "metadata": {
  "kernelspec": {
   "display_name": "anaconda-2024.02-py310",
   "language": "python",
   "name": "conda-env-anaconda-2024.02-py310-py"
  },
  "language_info": {
   "codemirror_mode": {
    "name": "ipython",
    "version": 3
   },
   "file_extension": ".py",
   "mimetype": "text/x-python",
   "name": "python",
   "nbconvert_exporter": "python",
   "pygments_lexer": "ipython3",
   "version": "3.10.14"
  }
 },
 "nbformat": 4,
 "nbformat_minor": 5
}
